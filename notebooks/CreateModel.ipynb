{
 "cells": [
  {
   "cell_type": "markdown",
   "metadata": {},
   "source": [
    "# Import libraries"
   ]
  },
  {
   "cell_type": "code",
   "execution_count": 4,
   "metadata": {},
   "outputs": [],
   "source": [
    "import pandas as pd\n",
    "import numpy as np\n",
    "import matplotlib.pyplot as plt\n",
    "import seaborn as sns\n",
    "import sklearn\n",
    "import joblib\n",
    "\n",
    "import import_ipynb"
   ]
  },
  {
   "cell_type": "markdown",
   "metadata": {},
   "source": [
    "# Import data"
   ]
  },
  {
   "cell_type": "code",
   "execution_count": 6,
   "metadata": {},
   "outputs": [],
   "source": [
    "import data_preprocessing\n",
    "\n",
    "class CreateModel():\n",
    "    def load_data(self, print_debug=False):\n",
    "        # load the data as formatted dataframe\n",
    "        self.data = data_preprocessing.Data(tags_or_genres='genres')\n",
    "        \n",
    "        if print_debug:\n",
    "            print(self.data.games.head())\n",
    "            print(self.data.games['description'].shape)"
   ]
  },
  {
   "cell_type": "markdown",
   "metadata": {},
   "source": [
    "# Input preprocessing\n",
    "Convert complex input (game description) into simple input for model  \n",
    "Result input variable will be named `X`\n",
    "\n",
    "We will be using [Sklearn library](https://scikit-learn.org/1.5/modules/feature_extraction.html) to perform the feature extraction"
   ]
  },
  {
   "cell_type": "code",
   "execution_count": 7,
   "metadata": {},
   "outputs": [],
   "source": [
    "import input_preprocessing\n",
    "\n",
    "class CreateModel(CreateModel):\n",
    "    def preprocess_input(self, input_preprocessor, print_debug=False):\n",
    "        self.X = input_preprocessor(self.data.games['description'], max_features=10000)\n",
    "\n",
    "        if print_debug:\n",
    "            print(self.X.shape)\n",
    "            \n",
    "        # X = input_preprocessing.bag_of_words(self.data.games['description'], max_features=10000)\n",
    "        # X = input_preprocessing.tfidf(self.data.games['description'], max_features=10000)\n",
    "        # X = input_preprocessing.hashing(self.data.games['description'], max_features=100)"
   ]
  },
  {
   "cell_type": "markdown",
   "metadata": {},
   "source": [
    "# Output preprocessing\n",
    "Convert complex output (game tags) into simple output for model (multi-label classification)  \n",
    "Resulting output variable will be named `y`"
   ]
  },
  {
   "cell_type": "code",
   "execution_count": 8,
   "metadata": {},
   "outputs": [],
   "source": [
    "import output_preprocessing\n",
    "\n",
    "class CreateModel(CreateModel):\n",
    "    def preprocess_output(self, output_preprocessor, print_debug=False):\n",
    "        self.y = output_preprocessor(self.data.games['genres'])\n",
    "        \n",
    "        if print_debug:\n",
    "            print(self.y.shape)\n",
    "            \n",
    "        # y = output_preprocessing.multilabel_binarizer(self.data.games['genres'])"
   ]
  },
  {
   "cell_type": "markdown",
   "metadata": {},
   "source": [
    "# Evaluation methods\n",
    "We want to create function `evaluate(y_pred, y_true)` that will evaluate the model performance"
   ]
  },
  {
   "cell_type": "code",
   "execution_count": 9,
   "metadata": {},
   "outputs": [],
   "source": [
    "import evaluation_methods\n",
    "\n",
    "class CreateModel(CreateModel):\n",
    "    def create_evaluate(self, evaluation_method):\n",
    "        self.evaluate = evaluation_method\n",
    "\n",
    "# evaluate = evaluation_methods.recall\n",
    "# evaluate = evaluation_methods.f1score"
   ]
  },
  {
   "cell_type": "markdown",
   "metadata": {},
   "source": [
    "# Model\n",
    "Use the given preprocessed input `X`, output `y`, evaluation functions `evaluate(y_pred, y_true)`, to train a chosen model (and save the model)  \n",
    "Resulting model will be class named `Model` with methods:  \n",
    "* fit(X, y) - train the model\n",
    "* predict(X) - predict the output for given input\n",
    "* save_model(path) - save the model to the given path\n",
    "* load_model(path) - load the model from the given path\n",
    "* evaluate() - evaluate the model performance"
   ]
  },
  {
   "cell_type": "code",
   "execution_count": 10,
   "metadata": {},
   "outputs": [],
   "source": [
    "import models\n",
    "\n",
    "class CreateModel(CreateModel):\n",
    "    def create_model(self, model):\n",
    "        self.model = model(self.X, self.y, self.evaluate)\n",
    "        \n",
    "# model = models.KNN(X, y, evaluate)\n",
    "# model = models.LogisticRegression(X, y, evaluate)\n",
    "# model = models.DecisionTree(X, y, evaluate)\n",
    "# model = models.RandomForest(X, y, evaluate)\n",
    "# model = models.NaiveBayes(X, y, evaluate)\n",
    "# model = models.SVM(X, y, evaluate)\n",
    "# model = models.MLP(X, y, evaluate)"
   ]
  },
  {
   "cell_type": "markdown",
   "metadata": {},
   "source": [
    "# Model training and evaluation"
   ]
  },
  {
   "cell_type": "code",
   "execution_count": 11,
   "metadata": {},
   "outputs": [],
   "source": [
    "class CreateModel(CreateModel):\n",
    "    def fit(self):\n",
    "        self.model.fit()\n",
    "        \n",
    "    def evaluate_model(self):\n",
    "        return self.model.evaluate()\n",
    "\n",
    "# model.fit()\n",
    "# print(model.evaluate())"
   ]
  },
  {
   "cell_type": "markdown",
   "metadata": {},
   "source": [
    "# Class constructor"
   ]
  },
  {
   "cell_type": "code",
   "execution_count": 12,
   "metadata": {},
   "outputs": [],
   "source": [
    "class CreateModel(CreateModel):\n",
    "    def __init__(self, input_preprocessor, output_preprocessor, model, evaluation_method, print_debug=False):\n",
    "        self.load_data(print_debug=print_debug)\n",
    "        self.preprocess_input(input_preprocessor, print_debug=print_debug)\n",
    "        self.preprocess_output(output_preprocessor, print_debug=print_debug)\n",
    "        self.create_evaluate(evaluation_method)\n",
    "        self.create_model(model)\n",
    "        \n",
    "        self.fit()"
   ]
  }
 ],
 "metadata": {
  "kernelspec": {
   "display_name": "Python 3",
   "language": "python",
   "name": "python3"
  },
  "language_info": {
   "name": "python",
   "version": "3.12.6"
  }
 },
 "nbformat": 4,
 "nbformat_minor": 2
}
