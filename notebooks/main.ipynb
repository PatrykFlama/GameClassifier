{
 "cells": [
  {
   "cell_type": "markdown",
   "metadata": {},
   "source": [
    "# Import libraries"
   ]
  },
  {
   "cell_type": "code",
   "execution_count": 1,
   "metadata": {},
   "outputs": [
    {
     "name": "stdout",
     "output_type": "stream",
     "text": [
      "   game_id                                               name  \\\n",
      "0  1418860  Zaccaria Pinball - House of Diamonds Deluxe Pi...   \n",
      "1  1418900                Sayonara Golden Days - Golden Souls   \n",
      "2  1418980          Medieval Dynasty - Digital Supporter Pack   \n",
      "3  1418990                              Unicorns on Unicycles   \n",
      "4  1419040                         Road Maintenance Simulator   \n",
      "\n",
      "                                         description  \\\n",
      "0  purchase this dlc disables score limit on this...   \n",
      "1  the dlc will does not affect really affect the...   \n",
      "2  the digital supporter pack of medieval dynasty...   \n",
      "3  turn your horns into swords in this wacky and ...   \n",
      "4  experience the everyday life in a german stree...   \n",
      "\n",
      "                                              genres  \n",
      "0  [Action,  Casual,  Free to Play,  Indie,  Simu...  \n",
      "1                                            [Indie]  \n",
      "2            [Action,  Adventure,  RPG,  Simulation]  \n",
      "3                          [Action,  Casual,  Indie]  \n",
      "4                      [Casual,  Indie,  Simulation]  \n"
     ]
    }
   ],
   "source": [
    "import pandas as pd\n",
    "import numpy as np\n",
    "import matplotlib.pyplot as plt\n",
    "import seaborn as sns\n",
    "import sklearn\n",
    "import joblib\n",
    "\n",
    "import import_ipynb\n",
    "import data_preprocessing"
   ]
  },
  {
   "cell_type": "markdown",
   "metadata": {},
   "source": [
    "# Import data"
   ]
  },
  {
   "cell_type": "code",
   "execution_count": null,
   "metadata": {},
   "outputs": [
    {
     "name": "stdout",
     "output_type": "stream",
     "text": [
      "   game_id                                               name  \\\n",
      "0  1418860  Zaccaria Pinball - House of Diamonds Deluxe Pi...   \n",
      "1  1418900                Sayonara Golden Days - Golden Souls   \n",
      "2  1418980          Medieval Dynasty - Digital Supporter Pack   \n",
      "3  1418990                              Unicorns on Unicycles   \n",
      "4  1419040                         Road Maintenance Simulator   \n",
      "\n",
      "                                         description  \\\n",
      "0  purchase this dlc disables score limit on this...   \n",
      "1  the dlc will does not affect really affect the...   \n",
      "2  the digital supporter pack of medieval dynasty...   \n",
      "3  turn your horns into swords in this wacky and ...   \n",
      "4  experience the everyday life in a german stree...   \n",
      "\n",
      "                                              genres  \n",
      "0  [Action,  Casual,  Free to Play,  Indie,  Simu...  \n",
      "1                                            [Indie]  \n",
      "2            [Action,  Adventure,  RPG,  Simulation]  \n",
      "3                          [Action,  Casual,  Indie]  \n",
      "4                      [Casual,  Indie,  Simulation]  \n",
      "  word\n",
      "0  the\n",
      "1  and\n",
      "2   to\n",
      "3   of\n",
      "4    a\n"
     ]
    }
   ],
   "source": [
    "# load the data as formatted dataframe\n",
    "data = data_preprocessing.Data(tags_or_genres='genres')\n",
    "print(data.games.head())\n",
    "print(data.dict.head())"
   ]
  },
  {
   "cell_type": "markdown",
   "metadata": {},
   "source": [
    "# Input preprocessing\n",
    "Convert complex input (game description) into simple input for model  \n",
    "Result input variable will be named `X`\n",
    "\n",
    "We will be using [Sklearn library](https://scikit-learn.org/1.5/modules/feature_extraction.html) to perform the feature extraction"
   ]
  },
  {
   "cell_type": "code",
   "execution_count": 3,
   "metadata": {},
   "outputs": [
    {
     "data": {
      "text/plain": [
       "(50443,)"
      ]
     },
     "execution_count": 3,
     "metadata": {},
     "output_type": "execute_result"
    }
   ],
   "source": [
    "data.games['description'].shape"
   ]
  },
  {
   "cell_type": "markdown",
   "metadata": {},
   "source": [
    "### Bag of Words\n",
    "https://scikit-learn.org/1.5/modules/generated/sklearn.feature_extraction.text.CountVectorizer.html"
   ]
  },
  {
   "cell_type": "code",
   "execution_count": 16,
   "metadata": {},
   "outputs": [
    {
     "data": {
      "text/plain": [
       "(50443, 10000)"
      ]
     },
     "execution_count": 16,
     "metadata": {},
     "output_type": "execute_result"
    }
   ],
   "source": [
    "from sklearn.feature_extraction.text import CountVectorizer\n",
    "\n",
    "vectorizer = CountVectorizer(max_features=10000, stop_words='english')\n",
    "X = vectorizer.fit_transform(data.games['description'])\n",
    "\n",
    "X.shape\n"
   ]
  },
  {
   "cell_type": "markdown",
   "metadata": {},
   "source": [
    "### TF-IDF"
   ]
  },
  {
   "cell_type": "code",
   "execution_count": 5,
   "metadata": {},
   "outputs": [
    {
     "data": {
      "text/plain": [
       "(50443, 10000)"
      ]
     },
     "execution_count": 5,
     "metadata": {},
     "output_type": "execute_result"
    }
   ],
   "source": [
    "from sklearn.feature_extraction.text import CountVectorizer,TfidfTransformer\n",
    "\n",
    "vectorizer = CountVectorizer(max_features=10000, stop_words='english')\n",
    "counts = vectorizer.fit_transform(data.games['description'])\n",
    "\n",
    "transformer = TfidfTransformer(smooth_idf=False)\n",
    "X = transformer.fit_transform(counts)\n",
    "\n",
    "X.shape"
   ]
  },
  {
   "cell_type": "markdown",
   "metadata": {},
   "source": [
    "### Hashing Vectorizer\n",
    "https://scikit-learn.org/1.5/modules/generated/sklearn.feature_extraction.text.HashingVectorizer.html"
   ]
  },
  {
   "cell_type": "code",
   "execution_count": 6,
   "metadata": {},
   "outputs": [
    {
     "data": {
      "text/plain": [
       "(50443, 100)"
      ]
     },
     "execution_count": 6,
     "metadata": {},
     "output_type": "execute_result"
    }
   ],
   "source": [
    "from sklearn.feature_extraction.text import HashingVectorizer\n",
    "\n",
    "hv = HashingVectorizer(n_features=100)\n",
    "X = hv.transform(data.games['description'])\n",
    "\n",
    "X.shape"
   ]
  },
  {
   "cell_type": "markdown",
   "metadata": {},
   "source": [
    "# Output preprocessing\n",
    "Convert complex output (game tags) into simple output for model (multi-label classification)  \n",
    "Resulting output variable will be named `y`"
   ]
  },
  {
   "cell_type": "markdown",
   "metadata": {},
   "source": [
    "### Multi-label binarizer\n",
    "https://scikit-learn.org/1.5/modules/generated/sklearn.preprocessing.LabelBinarizer.html"
   ]
  },
  {
   "cell_type": "code",
   "execution_count": 8,
   "metadata": {},
   "outputs": [
    {
     "data": {
      "text/plain": [
       "(50443, 66)"
      ]
     },
     "execution_count": 8,
     "metadata": {},
     "output_type": "execute_result"
    }
   ],
   "source": [
    "from sklearn.preprocessing import MultiLabelBinarizer\n",
    "\n",
    "binarizer = MultiLabelBinarizer()\n",
    "y = binarizer.fit_transform(data.games['genres'])\n",
    "\n",
    "y.shape"
   ]
  },
  {
   "cell_type": "markdown",
   "metadata": {},
   "source": [
    "# Evaluation methods\n",
    "We want to create function `evaluate(y_pred, y_true)` that will evaluate the model performance"
   ]
  },
  {
   "cell_type": "markdown",
   "metadata": {},
   "source": [
    "### Recall\n",
    "https://scikit-learn.org/1.5/modules/generated/sklearn.metrics.recall_score.html"
   ]
  },
  {
   "cell_type": "code",
   "execution_count": 8,
   "metadata": {},
   "outputs": [],
   "source": [
    "from sklearn.metrics import recall_score\n",
    "\n",
    "def evaluate(y_pred, y_true):\n",
    "\treturn recall_score(y_true, y_pred, average='micro')"
   ]
  },
  {
   "cell_type": "markdown",
   "metadata": {},
   "source": [
    "### F1-score\n",
    "https://scikit-learn.org/0.15/modules/generated/sklearn.metrics.f1_score.html"
   ]
  },
  {
   "cell_type": "code",
   "execution_count": 9,
   "metadata": {},
   "outputs": [],
   "source": [
    "from sklearn.metrics import f1_score\n",
    "\n",
    "def evaluate(y_pred, y_true):\n",
    "    return f1_score(y_true, y_pred, average='micro')"
   ]
  },
  {
   "cell_type": "markdown",
   "metadata": {},
   "source": [
    "# Model\n",
    "Use the given preprocessed input `X`, output `y`, evaluation functions `evaluate(y_pred, y_true)`, to train a chosen model (and save the model)  \n",
    "Resulting model will be class named `Model` with methods:  \n",
    "* fit(X, y) - train the model\n",
    "* predict(X) - predict the output for given input\n",
    "* save_model(path) - save the model to the given path\n",
    "* load_model(path) - load the model from the given path\n",
    "* evaluate() - evaluate the model performance"
   ]
  },
  {
   "cell_type": "markdown",
   "metadata": {},
   "source": [
    "### KNN (K Nearest Neighbors)\n",
    "https://scikit-learn.org/1.5/modules/generated/sklearn.neighbors.KNeighborsClassifier.html"
   ]
  },
  {
   "cell_type": "code",
   "execution_count": 10,
   "metadata": {},
   "outputs": [],
   "source": [
    "from sklearn.model_selection import train_test_split\n",
    "from sklearn.neighbors import KNeighborsClassifier\n",
    "import joblib\n",
    "\n",
    "class Model:\n",
    "    def __init__(self, X, y):\n",
    "        self.X_train, self.X_test, self.y_train, self.y_test = train_test_split(X, y, test_size=0.2)\n",
    "        self.knn = KNeighborsClassifier(n_neighbors=10)\n",
    "        \n",
    "    def fit(self):\n",
    "        self.knn.fit(self.X_train, self.y_train)\n",
    "\n",
    "    def predict(self, X):\n",
    "        return self.knn.predict(X)\n",
    "\n",
    "    def evaluate(self):\n",
    "        y_pred = self.predict(self.X_test)\n",
    "        return evaluate(y_pred, self.y_test)\n",
    "\n",
    "    def save_model(self, path):\n",
    "        joblib.dump(self.knn, path)\n",
    "\n",
    "    def load_model(self, path):\n",
    "        self.knn = joblib.load(path)"
   ]
  },
  {
   "cell_type": "markdown",
   "metadata": {},
   "source": [
    "### Logistic Regression"
   ]
  },
  {
   "cell_type": "code",
   "execution_count": 12,
   "metadata": {},
   "outputs": [],
   "source": [
    "from sklearn.model_selection import train_test_split\n",
    "from sklearn.linear_model import LogisticRegression\n",
    "from sklearn.multioutput import MultiOutputClassifier\n",
    "\n",
    "class Model:\n",
    "\tdef __init__(self, X, y):\n",
    "\t\tself.X_train, self.X_test, self.y_train, self.y_test = train_test_split(X, y, test_size=0.2)\n",
    "\t\tself.lr = MultiOutputClassifier(LogisticRegression(penalty=None))\n",
    "\n",
    "\tdef fit(self):\n",
    "\t\tself.lr.fit(self.X_train, self.y_train)\n",
    "\t\t\n",
    "\tdef predict(self, X):\n",
    "\t\treturn self.lr.predict(X)\n",
    "\t\n",
    "\tdef evaluate(self):\n",
    "\t\ty_pred = self.predict(self.X_test)\n",
    "\t\treturn evaluate(y_pred, self.y_test)\n",
    "\t\n",
    "\tdef save_model(self, filename):\n",
    "\t\tjoblib.dump(self.lr, filename)\n",
    "\n",
    "\tdef load_model(self, filename):\n",
    "\t\tself.lr = joblib.load(filename)\n"
   ]
  },
  {
   "cell_type": "markdown",
   "metadata": {},
   "source": [
    "### Decision Trees"
   ]
  },
  {
   "cell_type": "code",
   "execution_count": 12,
   "metadata": {},
   "outputs": [],
   "source": [
    "from sklearn import tree\n",
    "\n",
    "class Model:\n",
    "\tdef __init__(self, X, y):\n",
    "\t\tself.X_train, self.X_test, self.y_train, self.y_test = train_test_split(X, y, test_size=0.2)\n",
    "\t\tself.tree = tree.DecisionTreeClassifier()\n",
    "\n",
    "\tdef fit(self):\n",
    "\t\tself.tree.fit(self.X_train, self.y_train)\n",
    "\t\t\n",
    "\tdef predict(self, X):\n",
    "\t\treturn self.tree.predict(X)\n",
    "\t\n",
    "\tdef evaluate(self):\n",
    "\t\ty_pred = self.predict(self.X_test)\n",
    "\t\treturn evaluate(y_pred, self.y_test)\n",
    "\t\n",
    "\tdef save_model(self, filename):\n",
    "\t\tjoblib.dump(self.tree, filename)\n",
    "\n",
    "\tdef load_model(self, filename):\n",
    "\t\tself.tree = joblib.load(filename)"
   ]
  },
  {
   "cell_type": "markdown",
   "metadata": {},
   "source": [
    "### Random Forest\n",
    "\n",
    "https://scikit-learn.org/1.5/modules/generated/sklearn.ensemble.RandomForestClassifier.html"
   ]
  },
  {
   "cell_type": "code",
   "execution_count": 29,
   "metadata": {},
   "outputs": [],
   "source": [
    "from sklearn.ensemble import RandomForestClassifier\n",
    "\n",
    "class Model:\n",
    "\tdef __init__(self, X, y):\n",
    "\t\tself.X_train, self.X_test, self.y_train, self.y_test = train_test_split(X, y, test_size=0.2)\n",
    "\t\tself.rfc = RandomForestClassifier()\n",
    "\n",
    "\tdef fit(self):\n",
    "\t\tself.rfc.fit(self.X_train, self.y_train)\n",
    "\t\t\n",
    "\tdef predict(self, X):\n",
    "\t\treturn self.rfc.predict(X)\n",
    "\t\n",
    "\tdef evaluate(self):\n",
    "\t\ty_pred = self.predict(self.X_test)\n",
    "\t\treturn evaluate(y_pred, self.y_test)\n",
    "\t\n",
    "\tdef save_model(self, filename):\n",
    "\t\tjoblib.dump(self.rfc, filename)\n",
    "\n",
    "\tdef load_model(self, filename):\n",
    "\t\tself.rfc = joblib.load(filename)"
   ]
  },
  {
   "cell_type": "markdown",
   "metadata": {},
   "source": [
    "### Naive Bayes"
   ]
  },
  {
   "cell_type": "code",
   "execution_count": 14,
   "metadata": {},
   "outputs": [],
   "source": [
    "from sklearn.naive_bayes import MultinomialNB\n",
    "\n",
    "class Model:\n",
    "\tdef __init__(self, X, y):\n",
    "\t\tself.X_train, self.X_test, self.y_train, self.y_test = train_test_split(X, y, test_size=0.2)\n",
    "\t\tself.nb = MultiOutputClassifier(MultinomialNB())\n",
    "\n",
    "\tdef fit(self):\n",
    "\t\tself.nb.fit(self.X_train, self.y_train)\n",
    "\t\t\n",
    "\tdef predict(self, X):\n",
    "\t\treturn self.nb.predict(X)\n",
    "\t\n",
    "\tdef evaluate(self):\n",
    "\t\ty_pred = self.predict(self.X_test)\n",
    "\t\treturn evaluate(y_pred, self.y_test)\n",
    "\t\n",
    "\tdef save_model(self, filename):\n",
    "\t\tjoblib.dump(self.nb, filename)\n",
    "\n",
    "\tdef load_model(self, filename):\n",
    "\t\tself.nb = joblib.load(filename)"
   ]
  },
  {
   "cell_type": "markdown",
   "metadata": {},
   "source": [
    "# Model training and evaluation"
   ]
  },
  {
   "cell_type": "code",
   "execution_count": 17,
   "metadata": {},
   "outputs": [
    {
     "name": "stdout",
     "output_type": "stream",
     "text": [
      "0.5334152166496077\n"
     ]
    }
   ],
   "source": [
    "model = Model(X, y)\n",
    "model.fit()\n",
    "print(model.evaluate())"
   ]
  },
  {
   "cell_type": "code",
   "execution_count": 31,
   "metadata": {},
   "outputs": [],
   "source": [
    "model.save_model('../models/random_forest.h5')"
   ]
  }
 ],
 "metadata": {
  "kernelspec": {
   "display_name": "Python 3",
   "language": "python",
   "name": "python3"
  },
  "language_info": {
   "codemirror_mode": {
    "name": "ipython",
    "version": 3
   },
   "file_extension": ".py",
   "mimetype": "text/x-python",
   "name": "python",
   "nbconvert_exporter": "python",
   "pygments_lexer": "ipython3",
   "version": "3.12.6"
  }
 },
 "nbformat": 4,
 "nbformat_minor": 2
}
