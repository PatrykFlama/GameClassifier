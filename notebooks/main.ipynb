{
 "cells": [
  {
   "cell_type": "markdown",
   "metadata": {},
   "source": [
    "# Import libraries"
   ]
  },
  {
   "cell_type": "code",
   "execution_count": 1,
   "metadata": {},
   "outputs": [],
   "source": [
    "import pandas as pd\n",
    "import numpy as np\n",
    "import matplotlib.pyplot as plt\n",
    "import seaborn as sns\n",
    "import sklearn\n",
    "import joblib\n",
    "\n",
    "import import_ipynb"
   ]
  },
  {
   "cell_type": "markdown",
   "metadata": {},
   "source": [
    "# Import data"
   ]
  },
  {
   "cell_type": "code",
   "execution_count": 2,
   "metadata": {},
   "outputs": [
    {
     "name": "stdout",
     "output_type": "stream",
     "text": [
      "   game_id                                               name  \\\n",
      "0  1418860  Zaccaria Pinball - House of Diamonds Deluxe Pi...   \n",
      "1  1418900                Sayonara Golden Days - Golden Souls   \n",
      "2  1418980          Medieval Dynasty - Digital Supporter Pack   \n",
      "3  1418990                              Unicorns on Unicycles   \n",
      "4  1419040                         Road Maintenance Simulator   \n",
      "\n",
      "                                         description  \\\n",
      "0  purchase this dlc disables score limit on this...   \n",
      "1  the dlc will does not affect really affect the...   \n",
      "2  the digital supporter pack of medieval dynasty...   \n",
      "3  turn your horns into swords in this wacky and ...   \n",
      "4  experience the everyday life in a german stree...   \n",
      "\n",
      "                                              genres  \n",
      "0  [Action,  Casual,  Free to Play,  Indie,  Simu...  \n",
      "1                                            [Indie]  \n",
      "2            [Action,  Adventure,  RPG,  Simulation]  \n",
      "3                          [Action,  Casual,  Indie]  \n",
      "4                      [Casual,  Indie,  Simulation]  \n",
      "   game_id                                               name  \\\n",
      "0  1418860  Zaccaria Pinball - House of Diamonds Deluxe Pi...   \n",
      "1  1418900                Sayonara Golden Days - Golden Souls   \n",
      "2  1418980          Medieval Dynasty - Digital Supporter Pack   \n",
      "3  1418990                              Unicorns on Unicycles   \n",
      "4  1419040                         Road Maintenance Simulator   \n",
      "\n",
      "                                         description  \\\n",
      "0  purchase this dlc disables score limit on this...   \n",
      "1  the dlc will does not affect really affect the...   \n",
      "2  the digital supporter pack of medieval dynasty...   \n",
      "3  turn your horns into swords in this wacky and ...   \n",
      "4  experience the everyday life in a german stree...   \n",
      "\n",
      "                                              genres  \n",
      "0  [Action,  Casual,  Free to Play,  Indie,  Simu...  \n",
      "1                                            [Indie]  \n",
      "2            [Action,  Adventure,  RPG,  Simulation]  \n",
      "3                          [Action,  Casual,  Indie]  \n",
      "4                      [Casual,  Indie,  Simulation]  \n",
      "  word\n",
      "0  the\n",
      "1  and\n",
      "2   to\n",
      "3   of\n",
      "4    a\n"
     ]
    }
   ],
   "source": [
    "import data_preprocessing\n",
    "\n",
    "# load the data as formatted dataframe\n",
    "data = data_preprocessing.Data(tags_or_genres='genres')\n",
    "print(data.games.head())\n",
    "print(data.dict.head())"
   ]
  },
  {
   "cell_type": "code",
   "execution_count": 3,
   "metadata": {},
   "outputs": [
    {
     "data": {
      "text/plain": [
       "(50443,)"
      ]
     },
     "execution_count": 3,
     "metadata": {},
     "output_type": "execute_result"
    }
   ],
   "source": [
    "data.games['description'].shape"
   ]
  },
  {
   "cell_type": "markdown",
   "metadata": {},
   "source": [
    "# Input preprocessing\n",
    "Convert complex input (game description) into simple input for model  \n",
    "Result input variable will be named `X`\n",
    "\n",
    "We will be using [Sklearn library](https://scikit-learn.org/1.5/modules/feature_extraction.html) to perform the feature extraction"
   ]
  },
  {
   "cell_type": "code",
   "execution_count": 4,
   "metadata": {},
   "outputs": [
    {
     "data": {
      "text/plain": [
       "(50443, 100)"
      ]
     },
     "execution_count": 4,
     "metadata": {},
     "output_type": "execute_result"
    }
   ],
   "source": [
    "import input_preprocessing\n",
    "\n",
    "# X = input_preprocessing.bag_of_words(data.games['description'], max_features=10000)\n",
    "# X = input_preprocessing.tfidf(data.games['description'], max_features=10000)\n",
    "X = input_preprocessing.hashing(data.games['description'], n_features=100)\n",
    "X.shape"
   ]
  },
  {
   "cell_type": "markdown",
   "metadata": {},
   "source": [
    "# Output preprocessing\n",
    "Convert complex output (game tags) into simple output for model (multi-label classification)  \n",
    "Resulting output variable will be named `y`"
   ]
  },
  {
   "cell_type": "code",
   "execution_count": 5,
   "metadata": {},
   "outputs": [
    {
     "data": {
      "text/plain": [
       "(50443, 66)"
      ]
     },
     "execution_count": 5,
     "metadata": {},
     "output_type": "execute_result"
    }
   ],
   "source": [
    "import output_preprocessing\n",
    "\n",
    "y = output_preprocessing.multilabel_binarizer(data.games['genres'])\n",
    "y.shape"
   ]
  },
  {
   "cell_type": "markdown",
   "metadata": {},
   "source": [
    "# Evaluation methods\n",
    "We want to create function `evaluate(y_pred, y_true)` that will evaluate the model performance"
   ]
  },
  {
   "cell_type": "code",
   "execution_count": 6,
   "metadata": {},
   "outputs": [],
   "source": [
    "import evaluation_methods\n",
    "\n",
    "# evaluate = evaluation_methods.recall\n",
    "evaluate = evaluation_methods.f1score"
   ]
  },
  {
   "cell_type": "markdown",
   "metadata": {},
   "source": [
    "# Model\n",
    "Use the given preprocessed input `X`, output `y`, evaluation functions `evaluate(y_pred, y_true)`, to train a chosen model (and save the model)  \n",
    "Resulting model will be class named `Model` with methods:  \n",
    "* fit(X, y) - train the model\n",
    "* predict(X) - predict the output for given input\n",
    "* save_model(path) - save the model to the given path\n",
    "* load_model(path) - load the model from the given path\n",
    "* evaluate() - evaluate the model performance"
   ]
  },
  {
   "cell_type": "code",
   "execution_count": 7,
   "metadata": {},
   "outputs": [],
   "source": [
    "import models\n",
    "\n",
    "# model = models.KNN(X, y, evaluate)\n",
    "# model = models.LogisticRegression(X, y, evaluate)\n",
    "# model = models.DecisionTree(X, y, evaluate)\n",
    "# model = models.RandomForest(X, y, evaluate)\n",
    "# model = models.NaiveBayes(X, y, evaluate)\n",
    "# model = models.SVM(X, y, evaluate)\n",
    "model = models.MLP(X, y, evaluate)"
   ]
  },
  {
   "cell_type": "markdown",
   "metadata": {},
   "source": [
    "# Model training and evaluation"
   ]
  },
  {
   "cell_type": "code",
   "execution_count": 8,
   "metadata": {},
   "outputs": [
    {
     "name": "stdout",
     "output_type": "stream",
     "text": [
      "0.4280315194032063\n"
     ]
    },
    {
     "name": "stderr",
     "output_type": "stream",
     "text": [
      "c:\\Users\\patry\\AppData\\Local\\Programs\\Python\\Python312\\Lib\\site-packages\\sklearn\\neural_network\\_multilayer_perceptron.py:690: ConvergenceWarning: Stochastic Optimizer: Maximum iterations (300) reached and the optimization hasn't converged yet.\n",
      "  warnings.warn(\n"
     ]
    }
   ],
   "source": [
    "model.fit()\n",
    "print(model.evaluate())"
   ]
  }
 ],
 "metadata": {
  "kernelspec": {
   "display_name": "Python 3",
   "language": "python",
   "name": "python3"
  },
  "language_info": {
   "codemirror_mode": {
    "name": "ipython",
    "version": 3
   },
   "file_extension": ".py",
   "mimetype": "text/x-python",
   "name": "python",
   "nbconvert_exporter": "python",
   "pygments_lexer": "ipython3",
   "version": "3.12.6"
  }
 },
 "nbformat": 4,
 "nbformat_minor": 2
}
