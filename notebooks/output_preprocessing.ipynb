{
 "cells": [
  {
   "cell_type": "markdown",
   "metadata": {},
   "source": [
    "# Output preprocessing\n",
    "Convert complex output (game tags) into simple output for model (multi-label classification)  \n",
    "Resulting output variable will be named `y`"
   ]
  },
  {
   "cell_type": "markdown",
   "metadata": {},
   "source": [
    "### Multi-label binarizer\n",
    "https://scikit-learn.org/1.5/modules/generated/sklearn.preprocessing.LabelBinarizer.html"
   ]
  },
  {
   "cell_type": "code",
   "execution_count": null,
   "metadata": {},
   "outputs": [
    {
     "data": {
      "text/plain": [
       "(50443, 66)"
      ]
     },
     "metadata": {},
     "output_type": "display_data"
    }
   ],
   "source": [
    "from sklearn.preprocessing import MultiLabelBinarizer\n",
    "\n",
    "def multilabel_binarizer(output):\n",
    "    binarizer = MultiLabelBinarizer()\n",
    "    y = binarizer.fit_transform(output)\n",
    "    return y"
   ]
  }
 ],
 "metadata": {
  "language_info": {
   "name": "python"
  }
 },
 "nbformat": 4,
 "nbformat_minor": 2
}
