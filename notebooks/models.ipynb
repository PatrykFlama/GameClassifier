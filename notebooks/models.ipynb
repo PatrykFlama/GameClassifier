{
 "cells": [
  {
   "cell_type": "markdown",
   "metadata": {},
   "source": [
    "# Model\n",
    "Use the given preprocessed input `X`, output `y`, evaluation functions `evaluate(y_pred, y_true)`, to train a chosen model (and save the model)  \n",
    "Resulting model will be class named `Model` with methods:  \n",
    "* fit(X, y) - train the model\n",
    "* predict(X) - predict the output for given input\n",
    "* save_model(path) - save the model to the given path\n",
    "* load_model(path) - load the model from the given path\n",
    "* evaluate() - evaluate the model performance"
   ]
  },
  {
   "cell_type": "markdown",
   "metadata": {},
   "source": [
    "### KNN (K Nearest Neighbors)\n",
    "https://scikit-learn.org/1.5/modules/generated/sklearn.neighbors.KNeighborsClassifier.html"
   ]
  },
  {
   "cell_type": "code",
   "execution_count": null,
   "metadata": {},
   "outputs": [],
   "source": [
    "from sklearn.model_selection import train_test_split\n",
    "from sklearn.neighbors import KNeighborsClassifier\n",
    "import joblib\n",
    "\n",
    "class KNN:\n",
    "    def __init__(self, X, y, evaluate):\n",
    "        self.evaluate_ = evaluate\n",
    "        self.X_train, self.X_test, self.y_train, self.y_test = train_test_split(X, y, test_size=0.2)\n",
    "        self.knn = KNeighborsClassifier(n_neighbors=10)\n",
    "        \n",
    "    def fit(self):\n",
    "        self.knn.fit(self.X_train, self.y_train)\n",
    "\n",
    "    def predict(self, X):\n",
    "        return self.knn.predict(X)\n",
    "\n",
    "    def evaluate(self):\n",
    "        y_pred = self.predict(self.X_test)\n",
    "        return self.evaluate_(y_pred, self.y_test)\n",
    "\n",
    "    def save_model(self, path):\n",
    "        joblib.dump(self.knn, path)\n",
    "\n",
    "    def load_model(self, path):\n",
    "        self.knn = joblib.load(path)"
   ]
  },
  {
   "cell_type": "markdown",
   "metadata": {},
   "source": [
    "### Logistic Regression\n",
    "https://scikit-learn.org/1.5/modules/generated/sklearn.linear_model.LogisticRegression.html"
   ]
  },
  {
   "cell_type": "code",
   "execution_count": 2,
   "metadata": {},
   "outputs": [],
   "source": [
    "import joblib\n",
    "import matplotlib.pyplot as plt\n",
    "from sklearn.model_selection import train_test_split\n",
    "from sklearn.linear_model import LogisticRegression as LR\n",
    "from sklearn.multioutput import MultiOutputClassifier\n",
    "\n",
    "class LogisticRegression:\n",
    "    def __init__(self, X, y, evaluate, max_iter=10):\n",
    "        self.evaluate_ = evaluate\n",
    "        self.max_iter = max_iter\n",
    "        self.X_train, self.X_test, self.y_train, self.y_test = train_test_split(X, y, test_size=0.2)\n",
    "        self.lr = MultiOutputClassifier(LR(penalty=None, warm_start=True), n_jobs=-1)\n",
    "        self.history_ = []\n",
    "\n",
    "    def fit(self):\n",
    "        for iter in range(self.max_iter):\n",
    "            self.lr.estimator.set_params(max_iter=iter+1)\n",
    "            self.lr.fit(self.X_train, self.y_train)\n",
    "            score = self.evaluate()\n",
    "            self.history_.append(score)\n",
    "\n",
    "    def predict(self, X):\n",
    "        return self.lr.predict(X)\n",
    "    \n",
    "    def evaluate(self):\n",
    "        y_pred = self.predict(self.X_test)\n",
    "        return self.evaluate_(y_pred, self.y_test)\n",
    "    \n",
    "    def save_model(self, path):\n",
    "        joblib.dump(self.lr, path)\n",
    "\n",
    "    def load_model(self, path):\n",
    "        self.lr = joblib.load(path)\n"
   ]
  },
  {
   "cell_type": "markdown",
   "metadata": {},
   "source": [
    "### Decision Trees\n",
    "https://scikit-learn.org/1.5/modules/tree.html"
   ]
  },
  {
   "cell_type": "code",
   "execution_count": 1,
   "metadata": {},
   "outputs": [
    {
     "ename": "ModuleNotFoundError",
     "evalue": "No module named 'sklearn'",
     "output_type": "error",
     "traceback": [
      "\u001b[0;31m---------------------------------------------------------------------------\u001b[0m",
      "\u001b[0;31mModuleNotFoundError\u001b[0m                       Traceback (most recent call last)",
      "Cell \u001b[0;32mIn[1], line 1\u001b[0m\n\u001b[0;32m----> 1\u001b[0m \u001b[38;5;28;01mfrom\u001b[39;00m\u001b[38;5;250m \u001b[39m\u001b[38;5;21;01msklearn\u001b[39;00m\u001b[38;5;250m \u001b[39m\u001b[38;5;28;01mimport\u001b[39;00m tree\n\u001b[1;32m      3\u001b[0m \u001b[38;5;66;03m# smth wrong\u001b[39;00m\n\u001b[1;32m      4\u001b[0m \u001b[38;5;66;03m# TODO: \u001b[39;00m\n\u001b[1;32m      6\u001b[0m \u001b[38;5;28;01mclass\u001b[39;00m\u001b[38;5;250m \u001b[39m\u001b[38;5;21;01mDecisionTree\u001b[39;00m:\n",
      "\u001b[0;31mModuleNotFoundError\u001b[0m: No module named 'sklearn'"
     ]
    }
   ],
   "source": [
    "from sklearn import tree \n",
    "\n",
    "class DecisionTree:\n",
    "\tdef __init__(self, X, y, evaluate, max_depth_range=(1, 10)):\n",
    "\t\tself.evaluate_ = evaluate\n",
    "\t\tself.max_depth_range = max_depth_range\n",
    "\t\tself.X_train, self.X_test, self.y_train, self.y_test = train_test_split(X, y, test_size=0.2)\n",
    "\t\tself.history_ = []\n",
    "\t\tself.tree = None  \n",
    "\n",
    "\tdef fit(self):\n",
    "\t\tfor max_depth in range(self.max_depth_range[0], self.max_depth_range[1] + 1):\n",
    "\t\t\ttemp_tree = tree.DecisionTreeClassifier(max_depth=max_depth)\n",
    "\t\t\ttemp_tree.fit(self.X_train, self.y_train)\n",
    "\n",
    "\t\t\ty_pred = temp_tree.predict(self.X_test)\n",
    "\t\t\tscore = self.evaluate_(y_pred, self.y_test)\n",
    "\n",
    "\t\t\tself.history_.append({'max_depth': max_depth, 'score': score})\n",
    "\n",
    "\t\tbest_depth = max(self.history_, key=lambda x: x['score'])['max_depth']\n",
    "\t\tself.tree = tree.DecisionTreeClassifier(max_depth=best_depth)\n",
    "\t\tself.tree.fit(self.X_train, self.y_train)\n",
    "\t\t\n",
    "\tdef predict(self, X):\n",
    "\t\treturn self.tree.predict(X)\n",
    "\t\n",
    "\tdef evaluate(self):\n",
    "\t\ty_pred = self.predict(self.X_test)\n",
    "\t\treturn self.evaluate_(y_pred, self.y_test)\n",
    "\t\n",
    "\tdef save_model(self, path):\n",
    "\t\tjoblib.dump(self.tree, path)\n",
    "\n",
    "\tdef load_model(self, path):\n",
    "\t\tself.tree = joblib.load(path)"
   ]
  },
  {
   "cell_type": "markdown",
   "metadata": {},
   "source": [
    "### Random Forest\n",
    "\n",
    "https://scikit-learn.org/1.5/modules/generated/sklearn.ensemble.RandomForestClassifier.html"
   ]
  },
  {
   "cell_type": "code",
   "execution_count": 2,
   "metadata": {},
   "outputs": [
    {
     "ename": "ModuleNotFoundError",
     "evalue": "No module named 'sklearn'",
     "output_type": "error",
     "traceback": [
      "\u001b[0;31m---------------------------------------------------------------------------\u001b[0m",
      "\u001b[0;31mModuleNotFoundError\u001b[0m                       Traceback (most recent call last)",
      "Cell \u001b[0;32mIn[2], line 1\u001b[0m\n\u001b[0;32m----> 1\u001b[0m \u001b[38;5;28;01mfrom\u001b[39;00m\u001b[38;5;250m \u001b[39m\u001b[38;5;21;01msklearn\u001b[39;00m\u001b[38;5;21;01m.\u001b[39;00m\u001b[38;5;21;01mensemble\u001b[39;00m\u001b[38;5;250m \u001b[39m\u001b[38;5;28;01mimport\u001b[39;00m RandomForestClassifier\n\u001b[1;32m      3\u001b[0m \u001b[38;5;28;01mclass\u001b[39;00m\u001b[38;5;250m \u001b[39m\u001b[38;5;21;01mRandomForest\u001b[39;00m:\n\u001b[1;32m      4\u001b[0m \t\u001b[38;5;28;01mdef\u001b[39;00m\u001b[38;5;250m \u001b[39m\u001b[38;5;21m__init__\u001b[39m(\u001b[38;5;28mself\u001b[39m, X, y, evaluate):\n",
      "\u001b[0;31mModuleNotFoundError\u001b[0m: No module named 'sklearn'"
     ]
    }
   ],
   "source": [
    "from sklearn.ensemble import RandomForestClassifier\n",
    "\n",
    "class RandomForest:\n",
    "\tdef __init__(self, X, y, evaluate):\n",
    "\t\tself.evaluate_ = evaluate\n",
    "\t\tself.X_train, self.X_test, self.y_train, self.y_test = train_test_split(X, y, test_size=0.2)\n",
    "\t\tself.rfc = RandomForestClassifier()\n",
    "\n",
    "\tdef fit(self):\n",
    "\t\tself.rfc.fit(self.X_train, self.y_train)\n",
    "\t\t\n",
    "\tdef predict(self, X):\n",
    "\t\treturn self.rfc.predict(X)\n",
    "\t\n",
    "\tdef evaluate(self):\n",
    "\t\ty_pred = self.predict(self.X_test)\n",
    "\t\treturn self.evaluate_(y_pred, self.y_test)\n",
    "\t\n",
    "\tdef save_model(self, path):\n",
    "\t\tjoblib.dump(self.rfc, path)\n",
    "\n",
    "\tdef load_model(self, path):\n",
    "\t\tself.rfc = joblib.load(path)"
   ]
  },
  {
   "cell_type": "markdown",
   "metadata": {},
   "source": [
    "### Naive Bayes\n",
    "https://scikit-learn.org/1.5/modules/naive_bayes.html"
   ]
  },
  {
   "cell_type": "code",
   "execution_count": null,
   "metadata": {},
   "outputs": [],
   "source": [
    "from sklearn.naive_bayes import MultinomialNB\n",
    "from sklearn.multioutput import MultiOutputClassifier\n",
    "\n",
    "class NaiveBayes:\n",
    "\tdef __init__(self, X, y, evaluate, alpha_values=None):\n",
    "\t\tself.evaluate_ = evaluate\n",
    "\t\tself.X_train, self.X_test, self.y_train, self.y_test = train_test_split(X, y, test_size=0.2)\n",
    "\t\tself.alpha_values = alpha_values if alpha_values is not None else [0.1, 0.5, 1.0]\n",
    "\t\tself.nb = None\n",
    "\t\tself.history_ = []\n",
    "\n",
    "\tdef fit(self):\n",
    "\t\tfor alpha in self.alpha_values:\n",
    "\t\t\ttemp_nb = MultiOutputClassifier(MultinomialNB(alpha=alpha))\n",
    "\t\t\ttemp_nb.fit(self.X_train, self.y_train)\n",
    "\t\t\t\n",
    "\t\t\ty_pred = temp_nb.predict(self.X_test)\n",
    "\t\t\tscore = self.evaluate_(y_pred, self.y_test)\n",
    "\t\t\t\n",
    "\t\t\tself.history_.append({'alpha': alpha, 'score': score})\n",
    "        \n",
    "\t\tbest_alpha = max(self.history_, key=lambda x: x['score'])['alpha']\n",
    "\t\tself.nb = MultiOutputClassifier(MultinomialNB(alpha=best_alpha))\n",
    "\t\tself.nb.fit(self.X_train, self.y_train)\n",
    "\t\t\n",
    "\tdef predict(self, X):\n",
    "\t\treturn self.nb.predict(X)\n",
    "\t\n",
    "\tdef evaluate(self):\n",
    "\t\ty_pred = self.predict(self.X_test)\n",
    "\t\treturn self.evaluate_(y_pred, self.y_test)\n",
    "\t\n",
    "\tdef save_model(self, path):\n",
    "\t\tjoblib.dump(self.nb, path)\n",
    "\n",
    "\tdef load_model(self, path):\n",
    "\t\tself.nb = joblib.load(path)"
   ]
  },
  {
   "cell_type": "markdown",
   "metadata": {},
   "source": [
    "### SVM (Support Vector Machine)\n",
    "https://scikit-learn.org/1.5/modules/generated/sklearn.svm.SVC.html"
   ]
  },
  {
   "cell_type": "code",
   "execution_count": null,
   "metadata": {},
   "outputs": [],
   "source": [
    "from sklearn.svm import SVC\n",
    "from sklearn.multioutput import MultiOutputClassifier\n",
    "\n",
    "class SVM:\n",
    "    def __init__(self, X, y, evaluate, C_values=None):\n",
    "        self.evaluate_ = evaluate\n",
    "        self.C_values = C_values if C_values is not None else [0.1, 1.0, 10.0]\n",
    "        self.X_train, self.X_test, self.y_train, self.y_test = train_test_split(X, y, test_size=0.2)\n",
    "        self.svm = None  \n",
    "        self.history_ = []\n",
    "\n",
    "    def fit(self):\n",
    "        for C in self.C_values:\n",
    "            temp_svm = MultiOutputClassifier(SVC(C=C))\n",
    "            temp_svm.fit(self.X_train, self.y_train)\n",
    "            \n",
    "            y_pred = temp_svm.predict(self.X_test)\n",
    "            score = self.evaluate_(y_pred, self.y_test)\n",
    "            \n",
    "            self.history_.append({'C': C, 'score': score})\n",
    "        \n",
    "        best_C = max(self.history_, key=lambda x: x['score'])['C']\n",
    "        self.svm = MultiOutputClassifier(SVC(C=best_C))\n",
    "        self.svm.fit(self.X_train, self.y_train)\n",
    "        \n",
    "    def predict(self, X):\n",
    "        return self.svm.predict(X)\n",
    "    \n",
    "    def evaluate(self):\n",
    "        y_pred = self.predict(self.X_test)\n",
    "        return self.evaluate_(y_pred, self.y_test)\n",
    "    \n",
    "    def save_model(self, path):\n",
    "        joblib.dump(self.svm, path)\n",
    "\n",
    "    def load_model(self, path):\n",
    "        self.svm = joblib.load(path)"
   ]
  },
  {
   "cell_type": "markdown",
   "metadata": {},
   "source": [
    "### Neural Network (Multi-layer Perceptron)\n",
    "https://scikit-learn.org/1.5/modules/neural_networks_supervised.html\n",
    "\n",
    "https://scikit-learn.org/dev/modules/generated/sklearn.neural_network.MLPClassifier.html"
   ]
  },
  {
   "cell_type": "code",
   "execution_count": null,
   "metadata": {},
   "outputs": [],
   "source": [
    "from sklearn.neural_network import MLPClassifier\n",
    "\n",
    "# TODO: need to test\n",
    "\n",
    "class MLP:\n",
    "    def __init__(self, X, y, evaluate, max_iter=300, hidden_layer_sizes=(100,)):\n",
    "        self.evaluate_ = evaluate\n",
    "        self.X_train, self.X_test, self.y_train, self.y_test = train_test_split(X, y, test_size=0.2)\n",
    "        self.max_iter = max_iter\n",
    "        self.hidden_layer_sizes = hidden_layer_sizes\n",
    "        self.nn = MLPClassifier(hidden_layer_sizes=self.hidden_layer_sizes, max_iter=1, warm_start=True)\n",
    "        self.history_ = []\n",
    "        # self.nn = MLPClassifier(hidden_layer_sizes=(100,), max_iter=300)\n",
    "        # self.history_ = [] \n",
    "\n",
    "    def fit(self):\n",
    "        for i in range(self.max_iter):\n",
    "            self.nn.fit(self.X_train, self.y_train)\n",
    "            \n",
    "            y_pred = self.nn.predict(self.X_test)\n",
    "            score = self.evaluate_(y_pred, self.y_test)\n",
    "            \n",
    "            self.history_.append({'iteration': i + 1, 'score': score, 'loss': self.nn.loss_})\n",
    "        # self.nn.fit(self.X_train, self.y_train)\n",
    "        \n",
    "    def predict(self, X):\n",
    "        return self.nn.predict(X)\n",
    "    \n",
    "    def evaluate(self):\n",
    "        y_pred = self.predict(self.X_test)\n",
    "        return self.evaluate_(y_pred, self.y_test)\n",
    "    \n",
    "    def save_model(self, path):\n",
    "        joblib.dump(self.nn, path)\n",
    "\n",
    "    def load_model(self, path):\n",
    "        self.nn = joblib.load(path)"
   ]
  }
 ],
 "metadata": {
  "kernelspec": {
   "display_name": "Python 3.9.6 64-bit",
   "language": "python",
   "name": "python3"
  },
  "language_info": {
   "codemirror_mode": {
    "name": "ipython",
    "version": 3
   },
   "file_extension": ".py",
   "mimetype": "text/x-python",
   "name": "python",
   "nbconvert_exporter": "python",
   "pygments_lexer": "ipython3",
   "version": "3.9.6"
  },
  "vscode": {
   "interpreter": {
    "hash": "31f2aee4e71d21fbe5cf8b01ff0e069b9275f58929596ceb00d14d90e3e16cd6"
   }
  }
 },
 "nbformat": 4,
 "nbformat_minor": 2
}
