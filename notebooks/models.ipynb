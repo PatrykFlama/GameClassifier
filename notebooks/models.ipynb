{
 "cells": [
  {
   "cell_type": "markdown",
   "metadata": {},
   "source": [
    "# Model\n",
    "Use the given preprocessed input `X`, output `y`, evaluation functions `evaluate(y_pred, y_true)`, to train a chosen model (and save the model)  \n",
    "Resulting model will be class named `Model` with methods:  \n",
    "* fit(X, y) - train the model\n",
    "* predict(X) - predict the output for given input\n",
    "* save_model(path) - save the model to the given path\n",
    "* load_model(path) - load the model from the given path\n",
    "* evaluate() - evaluate the model performance"
   ]
  },
  {
   "cell_type": "markdown",
   "metadata": {},
   "source": [
    "### KNN (K Nearest Neighbors)\n",
    "https://scikit-learn.org/1.5/modules/generated/sklearn.neighbors.KNeighborsClassifier.html"
   ]
  },
  {
   "cell_type": "code",
   "execution_count": null,
   "metadata": {},
   "outputs": [],
   "source": [
    "from sklearn.model_selection import train_test_split\n",
    "from sklearn.neighbors import KNeighborsClassifier\n",
    "import joblib\n",
    "\n",
    "class KNN:\n",
    "    def __init__(self, X, y, evaluate):\n",
    "        self.evaluate_ = evaluate\n",
    "        self.X_train, self.X_test, self.y_train, self.y_test = train_test_split(X, y, test_size=0.2)\n",
    "        self.knn = KNeighborsClassifier(n_neighbors=10)\n",
    "        \n",
    "    def fit(self):\n",
    "        self.knn.fit(self.X_train, self.y_train)\n",
    "\n",
    "    def predict(self, X):\n",
    "        return self.knn.predict(X)\n",
    "\n",
    "    def evaluate(self):\n",
    "        y_pred = self.predict(self.X_test)\n",
    "        return self.evaluate_(y_pred, self.y_test)\n",
    "\n",
    "    def save_model(self, path):\n",
    "        joblib.dump(self.knn, path)\n",
    "\n",
    "    def load_model(self, path):\n",
    "        self.knn = joblib.load(path)"
   ]
  },
  {
   "cell_type": "markdown",
   "metadata": {},
   "source": [
    "### Logistic Regression\n",
    "https://scikit-learn.org/1.5/modules/generated/sklearn.linear_model.LogisticRegression.html"
   ]
  },
  {
   "cell_type": "code",
   "execution_count": null,
   "metadata": {},
   "outputs": [],
   "source": [
    "from sklearn.model_selection import train_test_split\n",
    "from sklearn.linear_model import LogisticRegression as LR\n",
    "from sklearn.multioutput import MultiOutputClassifier\n",
    "\n",
    "class LogisticRegression:\n",
    "\tdef __init__(self, X, y, evaluate):\n",
    "\t\tself.evaluate_ = evaluate\n",
    "\t\tself.X_train, self.X_test, self.y_train, self.y_test = train_test_split(X, y, test_size=0.2)\n",
    "\t\tself.lr = MultiOutputClassifier(LR(penalty=None))\n",
    "\n",
    "\tdef fit(self):\n",
    "\t\tself.lr.fit(self.X_train, self.y_train)\n",
    "\t\t\n",
    "\tdef predict(self, X):\n",
    "\t\treturn self.lr.predict(X)\n",
    "\t\n",
    "\tdef evaluate(self):\n",
    "\t\ty_pred = self.predict(self.X_test)\n",
    "\t\treturn self.evaluate_(y_pred, self.y_test)\n",
    "\t\n",
    "\tdef save_model(self, path):\n",
    "\t\tjoblib.dump(self.lr, path)\n",
    "\n",
    "\tdef load_model(self, path):\n",
    "\t\tself.lr = joblib.load(path)\n"
   ]
  },
  {
   "cell_type": "markdown",
   "metadata": {},
   "source": [
    "### Decision Trees\n",
    "https://scikit-learn.org/1.5/modules/tree.html"
   ]
  },
  {
   "cell_type": "code",
   "execution_count": null,
   "metadata": {},
   "outputs": [],
   "source": [
    "from sklearn import tree\n",
    "\n",
    "class DecisionTree:\n",
    "\tdef __init__(self, X, y, evaluate):\n",
    "\t\tself.evaluate_ = evaluate\n",
    "\t\tself.X_train, self.X_test, self.y_train, self.y_test = train_test_split(X, y, test_size=0.2)\n",
    "\t\tself.tree = tree.DecisionTreeClassifier()\n",
    "\n",
    "\tdef fit(self):\n",
    "\t\tself.tree.fit(self.X_train, self.y_train)\n",
    "\t\t\n",
    "\tdef predict(self, X):\n",
    "\t\treturn self.tree.predict(X)\n",
    "\t\n",
    "\tdef evaluate(self):\n",
    "\t\ty_pred = self.predict(self.X_test)\n",
    "\t\treturn self.evaluate_(y_pred, self.y_test)\n",
    "\t\n",
    "\tdef save_model(self, path):\n",
    "\t\tjoblib.dump(self.tree, path)\n",
    "\n",
    "\tdef load_model(self, path):\n",
    "\t\tself.tree = joblib.load(path)"
   ]
  },
  {
   "cell_type": "markdown",
   "metadata": {},
   "source": [
    "### Random Forest\n",
    "\n",
    "https://scikit-learn.org/1.5/modules/generated/sklearn.ensemble.RandomForestClassifier.html"
   ]
  },
  {
   "cell_type": "code",
   "execution_count": null,
   "metadata": {},
   "outputs": [],
   "source": [
    "from sklearn.ensemble import RandomForestClassifier\n",
    "\n",
    "class RandomForest:\n",
    "\tdef __init__(self, X, y, evaluate):\n",
    "\t\tself.evaluate_ = evaluate\n",
    "\t\tself.X_train, self.X_test, self.y_train, self.y_test = train_test_split(X, y, test_size=0.2)\n",
    "\t\tself.rfc = RandomForestClassifier()\n",
    "\n",
    "\tdef fit(self):\n",
    "\t\tself.rfc.fit(self.X_train, self.y_train)\n",
    "\t\t\n",
    "\tdef predict(self, X):\n",
    "\t\treturn self.rfc.predict(X)\n",
    "\t\n",
    "\tdef evaluate(self):\n",
    "\t\ty_pred = self.predict(self.X_test)\n",
    "\t\treturn self.evaluate_(y_pred, self.y_test)\n",
    "\t\n",
    "\tdef save_model(self, path):\n",
    "\t\tjoblib.dump(self.rfc, path)\n",
    "\n",
    "\tdef load_model(self, path):\n",
    "\t\tself.rfc = joblib.load(path)"
   ]
  },
  {
   "cell_type": "markdown",
   "metadata": {},
   "source": [
    "### Naive Bayes\n",
    "https://scikit-learn.org/1.5/modules/naive_bayes.html"
   ]
  },
  {
   "cell_type": "code",
   "execution_count": null,
   "metadata": {},
   "outputs": [],
   "source": [
    "from sklearn.naive_bayes import MultinomialNB\n",
    "from sklearn.multioutput import MultiOutputClassifier\n",
    "\n",
    "class NaiveBayes:\n",
    "\tdef __init__(self, X, y, evaluate):\n",
    "\t\tself.evaluate_ = evaluate\n",
    "\t\tself.X_train, self.X_test, self.y_train, self.y_test = train_test_split(X, y, test_size=0.2)\n",
    "\t\tself.nb = MultiOutputClassifier(MultinomialNB())\n",
    "\n",
    "\tdef fit(self):\n",
    "\t\tself.nb.fit(self.X_train, self.y_train)\n",
    "\t\t\n",
    "\tdef predict(self, X):\n",
    "\t\treturn self.nb.predict(X)\n",
    "\t\n",
    "\tdef evaluate(self):\n",
    "\t\ty_pred = self.predict(self.X_test)\n",
    "\t\treturn self.evaluate_(y_pred, self.y_test)\n",
    "\t\n",
    "\tdef save_model(self, path):\n",
    "\t\tjoblib.dump(self.nb, path)\n",
    "\n",
    "\tdef load_model(self, path):\n",
    "\t\tself.nb = joblib.load(path)"
   ]
  },
  {
   "cell_type": "markdown",
   "metadata": {},
   "source": [
    "### SVM (Support Vector Machine)\n",
    "https://scikit-learn.org/1.5/modules/generated/sklearn.svm.SVC.html"
   ]
  },
  {
   "cell_type": "code",
   "execution_count": null,
   "metadata": {},
   "outputs": [],
   "source": [
    "from sklearn.svm import SVC\n",
    "from sklearn.multioutput import MultiOutputClassifier\n",
    "\n",
    "class SVM:\n",
    "    def __init__(self, X, y, evaluate):\n",
    "        self.evaluate_ = evaluate\n",
    "        self.X_train, self.X_test, self.y_train, self.y_test = train_test_split(X, y, test_size=0.2)\n",
    "        self.svm = MultiOutputClassifier(SVC())\n",
    "\n",
    "    def fit(self):\n",
    "        self.svm.fit(self.X_train, self.y_train)\n",
    "        \n",
    "    def predict(self, X):\n",
    "        return self.svm.predict(X)\n",
    "    \n",
    "    def evaluate(self):\n",
    "        y_pred = self.predict(self.X_test)\n",
    "        return self.evaluate_(y_pred, self.y_test)\n",
    "    \n",
    "    def save_model(self, path):\n",
    "        joblib.dump(self.svm, path)\n",
    "\n",
    "    def load_model(self, path):\n",
    "        self.svm = joblib.load(path)"
   ]
  },
  {
   "cell_type": "markdown",
   "metadata": {},
   "source": [
    "### Neural Network (Multi-layer Perceptron)\n",
    "https://scikit-learn.org/1.5/modules/neural_networks_supervised.html\n",
    "\n",
    "https://scikit-learn.org/dev/modules/generated/sklearn.neural_network.MLPClassifier.html"
   ]
  },
  {
   "cell_type": "code",
   "execution_count": null,
   "metadata": {},
   "outputs": [],
   "source": [
    "from sklearn.neural_network import MLPClassifier\n",
    "\n",
    "class MLP:\n",
    "    def __init__(self, X, y, evaluate):\n",
    "        self.evaluate_ = evaluate\n",
    "        self.X_train, self.X_test, self.y_train, self.y_test = train_test_split(X, y, test_size=0.2)\n",
    "        self.nn = MLPClassifier(hidden_layer_sizes=(100,), max_iter=300)\n",
    "\n",
    "    def fit(self):\n",
    "        self.nn.fit(self.X_train, self.y_train)\n",
    "        \n",
    "    def predict(self, X):\n",
    "        return self.nn.predict(X)\n",
    "    \n",
    "    def evaluate(self):\n",
    "        y_pred = self.predict(self.X_test)\n",
    "        return self.evaluate_(y_pred, self.y_test)\n",
    "    \n",
    "    def save_model(self, path):\n",
    "        joblib.dump(self.nn, path)\n",
    "\n",
    "    def load_model(self, path):\n",
    "        self.nn = joblib.load(path)"
   ]
  }
 ],
 "metadata": {
  "language_info": {
   "name": "python"
  }
 },
 "nbformat": 4,
 "nbformat_minor": 2
}
